{
  "nbformat": 4,
  "nbformat_minor": 0,
  "metadata": {
    "colab": {
      "name": "2. AlexNet.ipynb",
      "provenance": [],
      "collapsed_sections": []
    },
    "kernelspec": {
      "name": "python3",
      "display_name": "Python 3"
    },
    "language_info": {
      "name": "python"
    }
  },
  "cells": [
    {
      "cell_type": "code",
      "metadata": {
        "id": "o1bLRD9XT2Kw"
      },
      "source": [
        "%load_ext tensorboard"
      ],
      "execution_count": 1,
      "outputs": []
    },
    {
      "cell_type": "code",
      "metadata": {
        "id": "YB4fWdrdT5gE"
      },
      "source": [
        "import numpy as np\n",
        "import tensorflow as tf\n",
        "import matplotlib.pyplot as plt"
      ],
      "execution_count": 2,
      "outputs": []
    },
    {
      "cell_type": "code",
      "metadata": {
        "id": "yMqG0N8CT8Mb"
      },
      "source": [
        "from tensorflow.keras import Model\n",
        "from tensorflow.keras.models import Sequential\n",
        "from tensorflow.keras.utils import to_categorical\n",
        "from tensorflow.keras.losses import categorical_crossentropy\n",
        "from tensorflow.keras.preprocessing.image import ImageDataGenerator\n",
        "from tensorflow.keras.layers import Dense, Flatten, Conv2D, MaxPooling2D, Dropout"
      ],
      "execution_count": 3,
      "outputs": []
    },
    {
      "cell_type": "code",
      "metadata": {
        "id": "B0J2CvnLT-wt"
      },
      "source": [
        "num_classes = 2\n",
        "class AlexNet(Sequential):\n",
        "  def __init__(self, input_shape, num_classes):\n",
        "    super().__init__()\n",
        "\n",
        "    self.add(Conv2D(96, kernel_size = (11, 11), strides = 4, padding = \"valid\", activation = \"relu\", input_shape = input_shape, kernel_initializer = \"he_normal\"))\n",
        "    self.add(MaxPooling2D(pool_size = (3, 3), strides = (2, 2), padding = \"valid\", data_format = \"channels_last\"))\n",
        "\n",
        "    self.add(Conv2D(256, kernel_size = (5, 5), strides = 1, padding = \"same\", activation = \"relu\", kernel_initializer = \"he_normal\"))\n",
        "    self.add(MaxPooling2D(pool_size = (3, 3), strides = (2, 2), padding = \"valid\", data_format = \"channels_last\"))\n",
        "\n",
        "    self.add(Conv2D(384, kernel_size = (3, 3), strides = 1, padding = \"same\", activation = \"relu\", kernel_initializer = \"he_normal\"))\n",
        "\n",
        "    self.add(Conv2D(384, kernel_size = (3, 3), strides = 1, padding = \"same\", activation = \"relu\", kernel_initializer = \"he_normal\"))\n",
        "\n",
        "    self.add(Conv2D(256, kernel_size = (3, 3), strides = 1, padding = \"same\", activation = \"relu\", kernel_initializer = \"he_normal\"))\n",
        "\n",
        "    self.add(MaxPooling2D(pool_size = (3, 3), strides = (2, 2), padding = \"valid\", data_format = \"channels_last\"))\n",
        "\n",
        "\n",
        "    self.add(Flatten())\n",
        "    self.add(Dense(4096, activation = \"relu\"))\n",
        "    self.add(Dense(4096, activation = \"relu\"))\n",
        "    self.add(Dense(1000, activation = \"relu\"))\n",
        "    self.add(Dense(num_classes, activation = \"softmax\"))\n",
        "\n",
        "    self.compile(\n",
        "        optimizer = tf.keras.optimizers.Adam(0.001)\n",
        "        , loss = \"categorical_crossentropy\"\n",
        "        , metrics = [\"accuracy\"])"
      ],
      "execution_count": 4,
      "outputs": []
    },
    {
      "cell_type": "code",
      "metadata": {
        "id": "Zw-QUI5VgNgD"
      },
      "source": [
        "model = AlexNet((100, 100, 3), num_classes)"
      ],
      "execution_count": 5,
      "outputs": []
    },
    {
      "cell_type": "code",
      "metadata": {
        "colab": {
          "base_uri": "https://localhost:8080/"
        },
        "id": "i1PT5-4egU7g",
        "outputId": "71194b35-d93a-488c-fcd7-eecb31642a6b"
      },
      "source": [
        "model.summary()"
      ],
      "execution_count": 6,
      "outputs": [
        {
          "output_type": "stream",
          "name": "stdout",
          "text": [
            "Model: \"alex_net\"\n",
            "_________________________________________________________________\n",
            "Layer (type)                 Output Shape              Param #   \n",
            "=================================================================\n",
            "conv2d (Conv2D)              (None, 23, 23, 96)        34944     \n",
            "_________________________________________________________________\n",
            "max_pooling2d (MaxPooling2D) (None, 11, 11, 96)        0         \n",
            "_________________________________________________________________\n",
            "conv2d_1 (Conv2D)            (None, 11, 11, 256)       614656    \n",
            "_________________________________________________________________\n",
            "max_pooling2d_1 (MaxPooling2 (None, 5, 5, 256)         0         \n",
            "_________________________________________________________________\n",
            "conv2d_2 (Conv2D)            (None, 5, 5, 384)         885120    \n",
            "_________________________________________________________________\n",
            "conv2d_3 (Conv2D)            (None, 5, 5, 384)         1327488   \n",
            "_________________________________________________________________\n",
            "conv2d_4 (Conv2D)            (None, 5, 5, 256)         884992    \n",
            "_________________________________________________________________\n",
            "max_pooling2d_2 (MaxPooling2 (None, 2, 2, 256)         0         \n",
            "_________________________________________________________________\n",
            "flatten (Flatten)            (None, 1024)              0         \n",
            "_________________________________________________________________\n",
            "dense (Dense)                (None, 4096)              4198400   \n",
            "_________________________________________________________________\n",
            "dense_1 (Dense)              (None, 4096)              16781312  \n",
            "_________________________________________________________________\n",
            "dense_2 (Dense)              (None, 1000)              4097000   \n",
            "_________________________________________________________________\n",
            "dense_3 (Dense)              (None, 2)                 2002      \n",
            "=================================================================\n",
            "Total params: 28,825,914\n",
            "Trainable params: 28,825,914\n",
            "Non-trainable params: 0\n",
            "_________________________________________________________________\n"
          ]
        }
      ]
    },
    {
      "cell_type": "code",
      "metadata": {
        "id": "kS_2t5zOgW5h"
      },
      "source": [
        ""
      ],
      "execution_count": null,
      "outputs": []
    }
  ]
}